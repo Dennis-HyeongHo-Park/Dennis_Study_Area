{
 "cells": [
  {
   "cell_type": "markdown",
   "metadata": {},
   "source": [
    "# 출처 : https://wikidocs.net/7031"
   ]
  },
  {
   "cell_type": "code",
   "execution_count": 12,
   "metadata": {},
   "outputs": [
    {
     "name": "stdout",
     "output_type": "stream",
     "text": [
      "범위에 없습니다. 다시 입력해 주세요.\n"
     ]
    }
   ],
   "source": [
    "# 122. 점수 구간에 해당하는 학점이 아래와 같이 정의되어 있다.\n",
    "# 사용자로부터 score를 입력받아 학점을 출력하라.\n",
    "user_socre = int(input())\n",
    "\n",
    "if 81 <= user_socre <= 100 :\n",
    "    print('A')\n",
    "elif 61 <= user_socre <= 80 :\n",
    "    print('B')\n",
    "elif 41 <= user_socre <= 60 :\n",
    "    print('C')\n",
    "elif 21 <= user_socre <= 40 :\n",
    "    print('D')\n",
    "elif 0 <= user_socre <= 20 :\n",
    "    print('E')\n",
    "else :\n",
    "    print('범위에 없습니다. 다시 입력해 주세요.')"
   ]
  },
  {
   "cell_type": "code",
   "execution_count": 40,
   "metadata": {},
   "outputs": [
    {
     "name": "stdout",
     "output_type": "stream",
     "text": [
      "1096.0 원\n"
     ]
    }
   ],
   "source": [
    "# 123. 사용자로부터 달러, 엔, 유로, 또는 위안 금액을 입력받은 후 이를 원으로 변환하는 프로그램을 작성해라.\n",
    "# 각 통화별 환율을 다음과 같다. 사용자는 100달러, 1000엔, 13유로, 100 위안과 같이 금액과 통화명 사이에 공백을\n",
    "# 넣어 입력한다고 가정한다.\n",
    "\n",
    "# aa = input()\n",
    "\n",
    "# if aa[-2:] in '달러' :\n",
    "#     print(int(aa[:-2]) * 1167, '원')\n",
    "# elif aa[-1:] in '엔' :\n",
    "#     print(int(aa[:-1]) * 1.096, '원')\n",
    "# elif aa[-2:] in '유로' :\n",
    "#     print(int(aa[:-2]) * 1268, '원')\n",
    "# elif aa[-2:] in '위안' :\n",
    "#     print(int(aa[:-2]) * 171, '원')\n",
    "# else :\n",
    "#     print('지원하지 않는 화폐입니다.')\n",
    "\n",
    "#정답\n",
    "exchage_rate = {\n",
    "    '달러' : 1167,\n",
    "    '엔' : 1.096,\n",
    "    '유로' : 1268,\n",
    "    '위안' : 171\n",
    "}\n",
    "\n",
    "user = input('입력 :')\n",
    "num, currency = user.split()\n",
    "print(float(num) * exchage_rate[currency], '원')"
   ]
  },
  {
   "cell_type": "code",
   "execution_count": null,
   "metadata": {},
   "outputs": [
    {
     "name": "stdout",
     "output_type": "stream",
     "text": [
      "30\n"
     ]
    }
   ],
   "source": [
    "# 124. 사용자로부터 세 개의 숫자를 입력 받은 후 가장 큰 숫자를 출력.\n",
    "number = {}\n",
    "number['number1'] = int(input())\n",
    "number['number1'] = int(input())\n",
    "number['number1'] = int(input())\n",
    "print(max(number.values()))\n",
    "\n",
    "# 정답 (정답이라고 써놓은것.)\n",
    "# num1 = input(\"input number1: \")\n",
    "# num2 = input(\"input number2: \")\n",
    "# num3 = input(\"input number3: \")\n",
    "# num1 = int(num1)\n",
    "# num2 = int(num2)\n",
    "# num3 = int(num3)\n",
    "\n",
    "# if num1 >= num2 and num1 >= num3:\n",
    "#     print(num1)\n",
    "# elif num2 >= num1 and num2 >= num3:\n",
    "#     print(num2)\n",
    "# else:\n",
    "    # print(num3)"
   ]
  },
  {
   "cell_type": "code",
   "execution_count": 47,
   "metadata": {},
   "outputs": [
    {
     "name": "stdout",
     "output_type": "stream",
     "text": [
      "당신은 LGU 상용자입니다.\n"
     ]
    }
   ],
   "source": [
    "# 125. 휴대폰 번호 앞자리에 따라 통신사는 아래와 같이 구분 된다.\n",
    "# 사용자로부터 휴대전화 번호를 입력 받고, 통신사를 출력하는 프로그램을 작성하라.\n",
    "tel_co = {\n",
    "    'SKT' : '011',\n",
    "    'KT' : '016',\n",
    "    'LGU' : '019',\n",
    "    '알수없음' : '010'\n",
    "    }\n",
    "\n",
    "user = input('휴대전화 번호를 입력:').split('-')\n",
    "\n",
    "if user[0] == '011' :\n",
    "    print('당신은 SKT 상용자입니다.')\n",
    "elif user[0] == '016' :\n",
    "    print('당신은 KT 상용자입니다.')\n",
    "elif user[0] == '019' :\n",
    "    print('당신은 LGU 상용자입니다.')\n",
    "else :\n",
    "    print('당신은 알수없는 상용자입니다.')"
   ]
  },
  {
   "cell_type": "code",
   "execution_count": 62,
   "metadata": {},
   "outputs": [
    {
     "name": "stdout",
     "output_type": "stream",
     "text": [
      "도봉구\n"
     ]
    }
   ],
   "source": [
    "# 126. 우편번호는 5가지로 구성되는데, 앞의 세자리는 구를 나타낸다.\n",
    "# 예를들어, 강북구의 경우 010, 011, 012 세 자리로 시작한다.\n",
    "\n",
    "post_num = input('우편번호: ')\n",
    "post_num = post_num[:3]\n",
    "\n",
    "if post_num in ['010', '011', '012'] :\n",
    "    print('강북구')\n",
    "elif post_num in ['014', '015', '016'] :\n",
    "    print('도봉구')\n",
    "else :\n",
    "    print('노원구')\n"
   ]
  },
  {
   "cell_type": "code",
   "execution_count": null,
   "metadata": {},
   "outputs": [
    {
     "name": "stdout",
     "output_type": "stream",
     "text": [
      "여자\n"
     ]
    }
   ],
   "source": [
    "# 127. 주민등록번호 뒷 자리 7자리 중 첫째 자리는 성별을 나타내는데,\n",
    "# 1, 3은 남자 / 2, 4는 여자를 의미한다. 사용자로부터 13자리의 주민번호를 입력받은 후\n",
    "# 성별(남자, 여자)를 출력하는 프로그램을 작성하라.\n",
    "user = input()\n",
    "\n",
    "if user[7] in ['1', '3'] :\n",
    "    print('남자')\n",
    "else :\n",
    "    print('여자')\n",
    "\n",
    "# 정답 \n",
    "# 주민번호 = input(\"주민등록번호: \")\n",
    "# 주민번호 = 주민번호.split(\"-\")[1]\n",
    "# if 주민번호[0] == \"1\" or 주민번호[0] == \"3\":\n",
    "#     print(\"남자\")\n",
    "# else:\n",
    "#     print(\"여자\")"
   ]
  },
  {
   "cell_type": "code",
   "execution_count": null,
   "metadata": {},
   "outputs": [
    {
     "name": "stdout",
     "output_type": "stream",
     "text": [
      "77\n"
     ]
    }
   ],
   "source": [
    "# 128. 주민등록번호 뒷 자리 7자리 중 두번째와 세번째는 지역코드를 의미한다.\n",
    "# 주민등록 번호를 입력 받은 후 출생지가 서울인지 아닌지 판단하는 코들르 작성하라.\n",
    "\n",
    "id_num = input()\n",
    "id_num = id_num.split('-')[1]\n",
    "\n",
    "if 0 <= int(id_num[1:3]) <= 8 :\n",
    "    print('서울 입니다.')\n",
    "else :\n",
    "    print('서울이 아닙니다.')"
   ]
  },
  {
   "cell_type": "code",
   "execution_count": 78,
   "metadata": {},
   "outputs": [
    {
     "name": "stdout",
     "output_type": "stream",
     "text": [
      "9\n"
     ]
    }
   ],
   "source": [
    "# 129. "
   ]
  },
  {
   "cell_type": "code",
   "execution_count": null,
   "metadata": {},
   "outputs": [],
   "source": []
  },
  {
   "cell_type": "code",
   "execution_count": null,
   "metadata": {},
   "outputs": [],
   "source": []
  },
  {
   "cell_type": "code",
   "execution_count": null,
   "metadata": {},
   "outputs": [],
   "source": []
  },
  {
   "cell_type": "code",
   "execution_count": null,
   "metadata": {},
   "outputs": [],
   "source": []
  },
  {
   "cell_type": "code",
   "execution_count": null,
   "metadata": {},
   "outputs": [],
   "source": []
  },
  {
   "cell_type": "code",
   "execution_count": null,
   "metadata": {},
   "outputs": [],
   "source": []
  },
  {
   "cell_type": "code",
   "execution_count": null,
   "metadata": {},
   "outputs": [],
   "source": []
  },
  {
   "cell_type": "code",
   "execution_count": null,
   "metadata": {},
   "outputs": [],
   "source": []
  },
  {
   "cell_type": "code",
   "execution_count": null,
   "metadata": {},
   "outputs": [],
   "source": []
  },
  {
   "cell_type": "code",
   "execution_count": null,
   "metadata": {},
   "outputs": [],
   "source": []
  },
  {
   "cell_type": "code",
   "execution_count": null,
   "metadata": {},
   "outputs": [],
   "source": []
  },
  {
   "cell_type": "code",
   "execution_count": null,
   "metadata": {},
   "outputs": [],
   "source": []
  },
  {
   "cell_type": "code",
   "execution_count": null,
   "metadata": {},
   "outputs": [],
   "source": []
  },
  {
   "cell_type": "code",
   "execution_count": null,
   "metadata": {},
   "outputs": [],
   "source": []
  }
 ],
 "metadata": {
  "kernelspec": {
   "display_name": "DennisStudy",
   "language": "python",
   "name": "dennisstudy"
  },
  "language_info": {
   "codemirror_mode": {
    "name": "ipython",
    "version": 3
   },
   "file_extension": ".py",
   "mimetype": "text/x-python",
   "name": "python",
   "nbconvert_exporter": "python",
   "pygments_lexer": "ipython3",
   "version": "3.9.10"
  }
 },
 "nbformat": 4,
 "nbformat_minor": 2
}
