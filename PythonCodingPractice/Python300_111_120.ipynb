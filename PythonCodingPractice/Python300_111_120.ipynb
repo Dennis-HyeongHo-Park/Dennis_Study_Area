{
 "cells": [
  {
   "cell_type": "code",
   "execution_count": 2,
   "metadata": {},
   "outputs": [
    {
     "name": "stdout",
     "output_type": "stream",
     "text": [
      "안녕하세요.안녕하세요.\n"
     ]
    }
   ],
   "source": [
    "# 111. 사용자로부터 입력받은 문자열을 두 번 출력하라. '안녕하세요'\n",
    "user = input('입력:')\n",
    "print(user*2)"
   ]
  },
  {
   "cell_type": "code",
   "execution_count": 12,
   "metadata": {},
   "outputs": [
    {
     "name": "stdout",
     "output_type": "stream",
     "text": [
      "40\n",
      "40\n"
     ]
    }
   ],
   "source": [
    "# 112. 사용자로부터 하나의 숫자를 입력받고, 입력 받은 숫자에 10을 더해 출력하라.\n",
    "num = int(input())\n",
    "print(num + 10)\n",
    "\n",
    "# 또는\n",
    "user = input('숫자를 입력하세요 :')\n",
    "print(10 + int(user))"
   ]
  },
  {
   "cell_type": "code",
   "execution_count": 14,
   "metadata": {},
   "outputs": [
    {
     "name": "stdout",
     "output_type": "stream",
     "text": [
      "훌수\n"
     ]
    }
   ],
   "source": [
    "# 113. 사용자로 부터 하나의 숫자를 받고 홀수/짝수를 판별하라.\n",
    "num = int(input())\n",
    "\n",
    "if num % 2 == 0 :\n",
    "    print('짝수')\n",
    "else :\n",
    "    print('훌수')"
   ]
  },
  {
   "cell_type": "code",
   "execution_count": null,
   "metadata": {},
   "outputs": [
    {
     "name": "stdout",
     "output_type": "stream",
     "text": [
      "32\n"
     ]
    }
   ],
   "source": [
    "# 114. 사용자로부터 값을 입력받은 후 해당 값에 20을 더한 값을 출력한다.\n",
    "# 단, 사용자가 입력한 값과 20을 덯나 계산 값이 255를 초과할 경우 255를 출력한다.\n",
    "num = int(input())\n",
    "\n",
    "result = num + 20\n",
    "\n",
    "if result > 255 :\n",
    "    print(255)\n",
    "else :\n",
    "    print(result)"
   ]
  },
  {
   "cell_type": "code",
   "execution_count": 21,
   "metadata": {},
   "outputs": [
    {
     "name": "stdout",
     "output_type": "stream",
     "text": [
      "240\n"
     ]
    }
   ],
   "source": [
    "# 115. 사용자로 부터 하나의 값을 입력받은 후 해당 값에 20을 뺀 값을 출력한다.\n",
    "# 단 출력 값의 범위는 0~255이다. 예를 들어 결과값이 0부다 작은 값이되는 경우 0을 출력하고\n",
    "# 255보다 큰 값이 되는 경우 255를 출력해야 한다.\n",
    "user =int(input())\n",
    "\n",
    "result = user - 20\n",
    "\n",
    "if result < 0 :\n",
    "    print(0)\n",
    "elif result > 255 :\n",
    "    print(255)\n",
    "else :\n",
    "    print(result)"
   ]
  },
  {
   "cell_type": "code",
   "execution_count": 8,
   "metadata": {},
   "outputs": [
    {
     "name": "stdout",
     "output_type": "stream",
     "text": [
      "현제 시간은12:12 입니다.\n"
     ]
    }
   ],
   "source": [
    "# 116. 사용자로부터 입력 받은 시간이 정각인지 판별하라.\n",
    "\n",
    "# 정답.. 시간 라이브러리르 가져올 필요 없이 글자 인덱스처럼 사용하여 하면 된다.\n",
    "\n",
    "time = input('현재시간 : ')\n",
    "\n",
    "if time[3:] == '00' :\n",
    "    print('정각 입니다.')\n",
    "else :\n",
    "    print(f'현제 시간은{time} 입니다.')"
   ]
  },
  {
   "cell_type": "code",
   "execution_count": 15,
   "metadata": {},
   "outputs": [
    {
     "name": "stdout",
     "output_type": "stream",
     "text": [
      "좋아하는 과일은? 포도\n",
      "정답입니다.\n"
     ]
    }
   ],
   "source": [
    "# 117. 사용자로 입력받은 단어가 아래 fruit 리스트에 포함되어 있는지 확인하라.\n",
    "# 포함되어 있다면 '정답입니다.'를 아닐 경우 '오답입니다.' 출력.\n",
    "fruit = ['사과', '포도', '홍시']\n",
    "\n",
    "like = input()\n",
    "print('좋아하는 과일은?', like )\n",
    "\n",
    "\n",
    "if like in fruit  :\n",
    "    print('정답입니다.')\n",
    "else :\n",
    "    print('오답입니다.')\n"
   ]
  },
  {
   "cell_type": "code",
   "execution_count": 21,
   "metadata": {},
   "outputs": [
    {
     "name": "stdout",
     "output_type": "stream",
     "text": [
      "투자 경고 종목이 아닙니다.\n"
     ]
    }
   ],
   "source": [
    "# 118. 투자 경고 종목 리스트가 있을 때 사용자로부터 종목명을 입력 받은 후 해당 종목이 투자 경고 종목이라면\n",
    "# '투자 경고 종목입니다.'를 아니면 '투자 경고 종목이 아닙니다.'를 출력하는 프로그램을 작성하라.\n",
    "warn_investment_list = [\"Microsoft\", \"Google\", \"Naver\", \"Kakao\", \"SAMSUNG\", \"LG\"]\n",
    "\n",
    "user = input()\n",
    "\n",
    "if user in warn_investment_list:\n",
    "    print('투자 경고 종목입니다.')\n",
    "else :\n",
    "    print('투자 경고 종목이 아닙니다.')"
   ]
  },
  {
   "cell_type": "code",
   "execution_count": 28,
   "metadata": {},
   "outputs": [
    {
     "name": "stdout",
     "output_type": "stream",
     "text": [
      "정답입니다.\n"
     ]
    }
   ],
   "source": [
    "# 119. 아래와 같이 fruit딕셔너리가 정의되어 있다. 사용자가 입력한 값이 딕셔너리 키(key) 값에 포함되어 있다면\n",
    "# '정답입니다.' 아니면 '오답입니다.' 출력\n",
    "fruit = {\"봄\" : \"딸기\", \"여름\" : \"토마토\", \"가을\" : \"사과\"}\n",
    "\n",
    "user = input()\n",
    "\n",
    "if user in fruit.keys():\n",
    "    print('정답입니다.')\n",
    "else :\n",
    "    print('오답입니다.')"
   ]
  },
  {
   "cell_type": "code",
   "execution_count": 29,
   "metadata": {},
   "outputs": [
    {
     "name": "stdout",
     "output_type": "stream",
     "text": [
      "정답입니다.\n"
     ]
    }
   ],
   "source": [
    "# 120. 아래와 같이 fruit 딕셔너리가 정의되어 있다. \n",
    "# 사용자가 입력한 값이 딕셔너리 값 (value)에 포함되었다면 \n",
    "# \"정답입니다\"를 아닐 경우 \"오답입니다\" 출력하라.\n",
    "\n",
    "fruit = {\"봄\" : \"딸기\", \"여름\" : \"토마토\", \"가을\" : \"사과\"}\n",
    "\n",
    "user = input()\n",
    "\n",
    "if user in fruit.values():\n",
    "    print('정답입니다.')\n",
    "else :\n",
    "    print('오답입니다.')"
   ]
  },
  {
   "cell_type": "code",
   "execution_count": null,
   "metadata": {},
   "outputs": [],
   "source": []
  },
  {
   "cell_type": "code",
   "execution_count": null,
   "metadata": {},
   "outputs": [],
   "source": []
  },
  {
   "cell_type": "code",
   "execution_count": null,
   "metadata": {},
   "outputs": [],
   "source": []
  },
  {
   "cell_type": "code",
   "execution_count": null,
   "metadata": {},
   "outputs": [],
   "source": []
  }
 ],
 "metadata": {
  "kernelspec": {
   "display_name": "DennisStudy",
   "language": "python",
   "name": "dennisstudy"
  },
  "language_info": {
   "codemirror_mode": {
    "name": "ipython",
    "version": 3
   },
   "file_extension": ".py",
   "mimetype": "text/x-python",
   "name": "python",
   "nbconvert_exporter": "python",
   "pygments_lexer": "ipython3",
   "version": "3.9.10"
  }
 },
 "nbformat": 4,
 "nbformat_minor": 2
}
