{
 "cells": [
  {
   "cell_type": "markdown",
   "metadata": {},
   "source": [
    "# 출처 : https://wikidocs.net/78563#google_vignette"
   ]
  },
  {
   "cell_type": "code",
   "execution_count": 4,
   "metadata": {},
   "outputs": [
    {
     "data": {
      "text/plain": [
       "{'메로나': [300, 20], '비비빅': [400, 3], '죠스바': [250, 100]}"
      ]
     },
     "execution_count": 4,
     "metadata": {},
     "output_type": "execute_result"
    }
   ],
   "source": [
    "# 91. 딕셔너리 생성\n",
    "# 아이스크림 이름을 키값으로 가격, 재고 값이 있는 딕셔너리 형태를 만들어라.\n",
    "# 변수의 이름은 inventory\n",
    "\n",
    "# 정답\\\n",
    "inventory = {'메로나': [300, 20], '비비빅' : [400, 3], '죠스바' : [250, 100]}\n",
    "inventory"
   ]
  },
  {
   "cell_type": "code",
   "execution_count": 9,
   "metadata": {},
   "outputs": [
    {
     "name": "stdout",
     "output_type": "stream",
     "text": [
      "300 원\n"
     ]
    }
   ],
   "source": [
    "# 딕셔너리 인덱싱\n",
    "# 92. 메로나의 가격을 화면에 출력하라\n",
    "inventory = {\n",
    "    '메로나': [300, 20], \n",
    "    '비비빅' : [400, 3], \n",
    "    '죠스바' : [250, 100]\n",
    "    }\n",
    "\n",
    "print(inventory['메로나'][0], '원')"
   ]
  },
  {
   "cell_type": "code",
   "execution_count": 10,
   "metadata": {},
   "outputs": [
    {
     "name": "stdout",
     "output_type": "stream",
     "text": [
      "20 개\n"
     ]
    }
   ],
   "source": [
    "# 93. 딕셔너리 인덱싱\n",
    "# 메로나의 제고 개수를 출력\n",
    "inventory = {\n",
    "    '메로나': [300, 20], \n",
    "    '비비빅' : [400, 3], \n",
    "    '죠스바' : [250, 100]\n",
    "    }\n",
    "\n",
    "print(inventory['메로나'][1], '개')"
   ]
  },
  {
   "cell_type": "markdown",
   "metadata": {},
   "source": []
  },
  {
   "cell_type": "code",
   "execution_count": 14,
   "metadata": {},
   "outputs": [
    {
     "data": {
      "text/plain": [
       "{'메로나': [300, 20], '비비빅': [400, 3], '죠스바': [250, 100], '월드콘': [500, 7]}"
      ]
     },
     "execution_count": 14,
     "metadata": {},
     "output_type": "execute_result"
    }
   ],
   "source": [
    "# 94. 딕셔너리 추가\n",
    "# 월드콘, 500원, 7개\n",
    "inventory = {\n",
    "    '메로나': [300, 20], \n",
    "    '비비빅' : [400, 3], \n",
    "    '죠스바' : [250, 100]\n",
    "    }\n",
    "\n",
    "# inventory = inventory{['월드콘', 500, 7]}\n",
    "# inventory\n",
    "\n",
    "# 정답\n",
    "inventory['월드콘'] = [500, 7]\n",
    "inventory"
   ]
  },
  {
   "cell_type": "code",
   "execution_count": 18,
   "metadata": {},
   "outputs": [
    {
     "data": {
      "text/plain": [
       "['탱크보이', '폴라포', '빵빠레', '월드콘', '메로나']"
      ]
     },
     "execution_count": 18,
     "metadata": {},
     "output_type": "execute_result"
    }
   ],
   "source": [
    "# 95. 딕셔너리 keys() 메서드\n",
    "# key값만으 구성된 리스트를 생성하라.\n",
    "icecream = {\n",
    "    '탱크보이': 1200, \n",
    "    '폴라포': 1200, \n",
    "    '빵빠레': 1800, \n",
    "    '월드콘': 1500, \n",
    "    '메로나': 1000\n",
    "    }\n",
    "\n",
    "# print(icecream['탱크보이'])\n",
    "\n",
    "# 정답\n",
    "ice = list(icecream.keys())\n",
    "ice"
   ]
  },
  {
   "cell_type": "code",
   "execution_count": 20,
   "metadata": {},
   "outputs": [
    {
     "data": {
      "text/plain": [
       "[1200, 1200, 1800, 1500, 1000]"
      ]
     },
     "execution_count": 20,
     "metadata": {},
     "output_type": "execute_result"
    }
   ],
   "source": [
    "# 96. 딕셔너리 values() 메서드\n",
    "# 다음의 딕셔너리에서 values 값으로만 구성된 리스트를 생성하라\n",
    "icecream = {\n",
    "    '탱크보이': 1200, \n",
    "    '폴라포': 1200, \n",
    "    '빵빠레': 1800, \n",
    "    '월드콘': 1500, \n",
    "    '메로나': 1000\n",
    "    }\n",
    "\n",
    "valeu = list(icecream.values()) \n",
    "valeu"
   ]
  },
  {
   "cell_type": "code",
   "execution_count": 21,
   "metadata": {},
   "outputs": [
    {
     "data": {
      "text/plain": [
       "6700"
      ]
     },
     "execution_count": 21,
     "metadata": {},
     "output_type": "execute_result"
    }
   ],
   "source": [
    "# 97.딕셔너리 values()메서드\n",
    "# 아이스크림 각격의 총합을 출력하라.\n",
    "icecream = {\n",
    "    '탱크보이': 1200, \n",
    "    '폴라포': 1200, \n",
    "    '빵빠레': 1800, \n",
    "    '월드콘': 1500, \n",
    "    '메로나': 1000\n",
    "    }\n",
    "\n",
    "income = sum(icecream.values())\n",
    "income"
   ]
  },
  {
   "cell_type": "code",
   "execution_count": 33,
   "metadata": {},
   "outputs": [
    {
     "data": {
      "text/plain": [
       "{'탱크보이': 1200,\n",
       " '폴라포': 1200,\n",
       " '빵빠레': 1800,\n",
       " '월드콘': 1500,\n",
       " '메로나': 1000,\n",
       " '팥빙수': 2700,\n",
       " '아맛나': 1000}"
      ]
     },
     "execution_count": 33,
     "metadata": {},
     "output_type": "execute_result"
    }
   ],
   "source": [
    "# 98. 딕셔더리 update 메서드\n",
    "# 새로운 아이스크림과 정보를 추가하기.\n",
    "icecream = {\n",
    "    '탱크보이': 1200, \n",
    "    '폴라포': 1200, \n",
    "    '빵빠레': 1800, \n",
    "    '월드콘': 1500, \n",
    "    '메로나': 1000\n",
    "    }\n",
    "new_product = {'팥빙수' : 2700, '아맛나' : 1000}\n",
    "\n",
    "# 정답\n",
    "icecream.update(new_product)\n",
    "icecream"
   ]
  },
  {
   "cell_type": "code",
   "execution_count": 37,
   "metadata": {},
   "outputs": [
    {
     "data": {
      "text/plain": [
       "{'apple': 300, 'pear': 250, 'peach': 400}"
      ]
     },
     "execution_count": 37,
     "metadata": {},
     "output_type": "execute_result"
    }
   ],
   "source": [
    "# 99. zip과 dict\n",
    "# 아래의 두 개의 튜플을 하나의 딕셔너리로 변환하라.\n",
    "keys = ('apple', 'pear', 'peach')\n",
    "vals = (300, 250, 400)\n",
    "\n",
    "result = dict(zip(keys, vals))\n",
    "result"
   ]
  },
  {
   "cell_type": "code",
   "execution_count": 38,
   "metadata": {},
   "outputs": [
    {
     "data": {
      "text/plain": [
       "{'09/05': 10500,\n",
       " '09/06': 10300,\n",
       " '09/07': 10100,\n",
       " '09/08': 10800,\n",
       " '09/09': 11000}"
      ]
     },
     "execution_count": 38,
     "metadata": {},
     "output_type": "execute_result"
    }
   ],
   "source": [
    "# 100. zip과 dict\n",
    "# 아래 두 튜플을 합하여 딕셔너리로 만들어라\n",
    "date = ['09/05', '09/06', '09/07', '09/08', '09/09']\n",
    "close_price = [10500, 10300, 10100, 10800, 11000]\n",
    "\n",
    "close_table = dict(zip(date, close_price))\n",
    "close_table"
   ]
  },
  {
   "cell_type": "code",
   "execution_count": null,
   "metadata": {},
   "outputs": [],
   "source": []
  },
  {
   "cell_type": "code",
   "execution_count": null,
   "metadata": {},
   "outputs": [],
   "source": []
  },
  {
   "cell_type": "code",
   "execution_count": null,
   "metadata": {},
   "outputs": [],
   "source": []
  },
  {
   "cell_type": "code",
   "execution_count": null,
   "metadata": {},
   "outputs": [],
   "source": []
  },
  {
   "cell_type": "code",
   "execution_count": null,
   "metadata": {},
   "outputs": [],
   "source": []
  },
  {
   "cell_type": "code",
   "execution_count": null,
   "metadata": {},
   "outputs": [],
   "source": []
  },
  {
   "cell_type": "code",
   "execution_count": null,
   "metadata": {},
   "outputs": [],
   "source": []
  },
  {
   "cell_type": "code",
   "execution_count": null,
   "metadata": {},
   "outputs": [],
   "source": []
  },
  {
   "cell_type": "code",
   "execution_count": null,
   "metadata": {},
   "outputs": [],
   "source": []
  },
  {
   "cell_type": "code",
   "execution_count": null,
   "metadata": {},
   "outputs": [],
   "source": []
  },
  {
   "cell_type": "code",
   "execution_count": null,
   "metadata": {},
   "outputs": [],
   "source": []
  },
  {
   "cell_type": "code",
   "execution_count": null,
   "metadata": {},
   "outputs": [],
   "source": []
  },
  {
   "cell_type": "code",
   "execution_count": null,
   "metadata": {},
   "outputs": [],
   "source": []
  },
  {
   "cell_type": "code",
   "execution_count": null,
   "metadata": {},
   "outputs": [],
   "source": []
  },
  {
   "cell_type": "code",
   "execution_count": null,
   "metadata": {},
   "outputs": [],
   "source": []
  },
  {
   "cell_type": "code",
   "execution_count": null,
   "metadata": {},
   "outputs": [],
   "source": []
  },
  {
   "cell_type": "code",
   "execution_count": null,
   "metadata": {},
   "outputs": [],
   "source": []
  },
  {
   "cell_type": "code",
   "execution_count": null,
   "metadata": {},
   "outputs": [],
   "source": []
  }
 ],
 "metadata": {
  "kernelspec": {
   "display_name": "DennisStudy",
   "language": "python",
   "name": "dennisstudy"
  },
  "language_info": {
   "codemirror_mode": {
    "name": "ipython",
    "version": 3
   },
   "file_extension": ".py",
   "mimetype": "text/x-python",
   "name": "python",
   "nbconvert_exporter": "python",
   "pygments_lexer": "ipython3",
   "version": "3.9.10"
  }
 },
 "nbformat": 4,
 "nbformat_minor": 2
}
