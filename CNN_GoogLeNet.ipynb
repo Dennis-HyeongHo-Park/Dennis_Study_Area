{
  "nbformat": 4,
  "nbformat_minor": 0,
  "metadata": {
    "colab": {
      "provenance": []
    },
    "kernelspec": {
      "name": "python3",
      "display_name": "Python 3"
    },
    "language_info": {
      "name": "python"
    }
  },
  "cells": [
    {
      "cell_type": "code",
      "execution_count": null,
      "metadata": {
        "id": "dCKPhhAu5xnS"
      },
      "outputs": [],
      "source": [
        "# 임셉션 모듈을 만드는 것에 필요한 모듈 불러오기\n",
        "import tensorflow as tf\n",
        "import tensorflow.keras as keras\n",
        "from tensorflow.keras.utils import plot_model # 모델 시각화에 사용"
      ]
    }
  ]
}